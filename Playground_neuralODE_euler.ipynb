{
  "nbformat": 4,
  "nbformat_minor": 0,
  "metadata": {
    "colab": {
      "name": "Playground_neuralODE_euler.ipynb",
      "provenance": [],
      "collapsed_sections": []
    },
    "kernelspec": {
      "name": "python3",
      "display_name": "Python 3"
    }
  },
  "cells": [
    {
      "cell_type": "code",
      "metadata": {
        "id": "GLOmdM422lQY",
        "colab_type": "code",
        "colab": {
          "base_uri": "https://localhost:8080/",
          "height": 320
        },
        "outputId": "2874e6f5-6b55-42aa-9e55-1219babeeb93"
      },
      "source": [
        "#author: batuhan koyuncu\n",
        "#blog at bkoyuncu@github.io\n",
        "\n",
        "import numpy as np\n",
        "import matplotlib.pyplot as plt\n",
        "import math\n",
        "\n",
        "\n",
        "def f_prime(x,y):\n",
        "    y_prime = -np.sin(x)\n",
        "    return y_prime\n",
        "\n",
        "def euler(givenfunction,x0,y0,h,n,i):\n",
        "    m=givenfunction(x0,y0)\n",
        "    y1=y0+h*m\n",
        "    x1=x0+h\n",
        "    i=i+1\n",
        "    if i==n:\n",
        "        xs.append(round(x1,2))\n",
        "        ys.append(round(y1,5))\n",
        "        return (x1,y1)\n",
        "    else:\n",
        "        xs.append(round(x1,2))\n",
        "        ys.append(round(y1,5))\n",
        "        return euler(givenfunction,x1,y1,h,n,i)\n",
        "\n",
        "delta=0.1\n",
        "x0=0\n",
        "y0=1\n",
        "n=len(np.arange(0, 5.0, delta))\n",
        "xs=[x0]\n",
        "ys=[y0]\n",
        "\n",
        "_=euler(f_prime,x0,y0,delta,n,i=1)\n",
        "\n",
        "\n",
        "\n",
        "def f(x):\n",
        "    y=np.cos(x)\n",
        "    return y\n",
        "    \n",
        "x_range = np.arange(0.0, 5.0, 0.02)\n",
        "\n",
        "plt.figure(figsize=(10,5))\n",
        "plt.plot(xs,ys,'bo',label='Euler\\'s method')\n",
        "plt.plot(x_range, f(x_range), 'k', label='Analytical Solution')\n",
        "plt.legend()\n",
        "plt.show()\n",
        "\n"
      ],
      "execution_count": null,
      "outputs": [
        {
          "output_type": "display_data",
          "data": {
            "image/png": "[encoded data removed]",
            "text/plain": [
              "<Figure size 720x360 with 1 Axes>"
            ]
          },
          "metadata": {
            "tags": [],
            "needs_background": "light"
          }
        }
      ]
    },
    {
      "cell_type": "code",
      "metadata": {
        "id": "yq3bKwwi2r0r",
        "colab_type": "code",
        "colab": {}
      },
      "source": [
        "import torch\n",
        "\n",
        "#function F\n",
        "def Func(x):\n",
        "    \n",
        "    y = 1+0.5*np.exp(-4*x)-0.5*np.exp(-2*x)\n",
        "    return y\n",
        "\n",
        "\n",
        "#dataset\n",
        "delta=0.1\n",
        "x = np.arange(-1,4,delta)\n",
        "y = Func(x)\n",
        "\n",
        "#sample sorted sequences in dataset\n",
        "N = 1000\n",
        "seq_len=5\n",
        "data = np.empty((N,2,seq_len))\n",
        "for i in range(N):\n",
        "    mask = np.sort(np.random.choice(np.arange(0,len(x),1), seq_len, replace=False))\n",
        "    X = x[mask]\n",
        "    Y = y[mask]\n",
        "    data[i]= np.stack((X,Y))\n",
        "\n",
        "#neural network for approximating f which is derivative of F\n",
        "import torch\n",
        "import torch.nn as nn\n",
        "import torch.nn.functional as F\n",
        "import torch.optim as optim\n",
        "\n",
        "\n",
        "\n",
        "\n",
        "\n",
        "class Net(nn.Module):\n",
        "\n",
        "    def __init__(self):\n",
        "        super(Net, self).__init__()\n",
        "        self.fc1 = nn.Linear(2, 4)\n",
        "        self.fc2 = nn.Linear(4, 8)\n",
        "        self.fc3 = nn.Linear(8, 4)\n",
        "        self.fc4 = nn.Linear(4, 1)\n",
        "        \n",
        "    def forward(self, x):\n",
        "        x = F.relu(self.fc1(x))\n",
        "        x = F.relu(self.fc2(x))\n",
        "        x = F.relu(self.fc3(x))\n",
        "        x = (self.fc4(x))\n",
        "        return x\n",
        "\n"
      ],
      "execution_count": null,
      "outputs": []
    },
    {
      "cell_type": "code",
      "metadata": {
        "id": "fxWbTIDA8cDF",
        "colab_type": "code",
        "colab": {}
      },
      "source": [
        "#initialize the network\n",
        "net = Net()\n",
        "\n",
        "#initialize loss function and optimizer\n",
        "criterion = nn.MSELoss()\n",
        "optimizer = optim.Adam(net.parameters(),lr=0.0005)\n",
        "\n"
      ],
      "execution_count": null,
      "outputs": []
    },
    {
      "cell_type": "code",
      "metadata": {
        "id": "vai_cwyB8z46",
        "colab_type": "code",
        "colab": {
          "base_uri": "https://localhost:8080/",
          "height": 364
        },
        "outputId": "e8760f69-0c13-4eeb-cb6d-c607e866fad4"
      },
      "source": [
        "\n",
        "#training\n",
        "N=1000\n",
        "epochs=10\n",
        "bs = 1\n",
        "for epoch in range(epochs):\n",
        "  print(\"epoch \",epoch+1)\n",
        "  loss_sum = []\n",
        "  for index in range(N):\n",
        "    optimizer.zero_grad()\n",
        "    Ys=torch.zeros((1,seq_len-1))\n",
        "    data_point_X = data[index,[0]]\n",
        "    data_point_Y = data[index,[1]]\n",
        "\n",
        "    X = torch.Tensor(data_point_X[:,0])\n",
        "    Y = torch.Tensor(data_point_Y[:,0])\n",
        "    XY = torch.stack([X,Y]).view(bs,2).detach()\n",
        "\n",
        "    for j in range(data_point_X.shape[1]-1):\n",
        "      for i in np.arange(data_point_X[:,j][0],data_point_X[:,j+1][0],delta):\n",
        "\n",
        "        m_net_out = net(XY.detach())\n",
        "        Y=(Y.detach()+delta*m_net_out[0])\n",
        "        X=(X+delta)\n",
        "        XY = torch.stack([X,Y]).view(bs,2)\n",
        "      Ys[0,j]=Y\n",
        "    loss = criterion(Ys,torch.Tensor(data_point_Y[:,1:seq_len]))\n",
        "    loss.backward()\n",
        "    #print(\"loss\",loss.item())\n",
        "    loss_sum.append(loss.item())\n",
        "    optimizer.step()\n",
        "  print(\"mean_loss \",np.mean(loss_sum))"
      ],
      "execution_count": null,
      "outputs": [
        {
          "output_type": "stream",
          "text": [
            "epoch  1\n",
            "mean_loss  39.324684711307285\n",
            "epoch  2\n",
            "mean_loss  6.449610434442759\n",
            "epoch  3\n",
            "mean_loss  0.810181903532357\n",
            "epoch  4\n",
            "mean_loss  0.027068682976714626\n",
            "epoch  5\n",
            "mean_loss  0.0024878134404303863\n",
            "epoch  6\n",
            "mean_loss  0.0010414793523154913\n",
            "epoch  7\n",
            "mean_loss  0.000545735847567812\n",
            "epoch  8\n",
            "mean_loss  0.00044051753868370726\n",
            "epoch  9\n",
            "mean_loss  0.0003051206251448093\n",
            "epoch  10\n",
            "mean_loss  0.00020737694265881147\n"
          ],
          "name": "stdout"
        }
      ]
    },
    {
      "cell_type": "code",
      "metadata": {
        "id": "9myM8UUTCmwq",
        "colab_type": "code",
        "colab": {}
      },
      "source": [
        "\n",
        "\n",
        "#inference\n",
        "x = np.arange(-1,4,delta)\n",
        "y0 = Func(-1)\n",
        "X = torch.Tensor([x[0]])\n",
        "Y = torch.Tensor([y0])\n",
        "\n",
        "XY = torch.stack([X,Y]).view(bs,2).detach()\n",
        "Ys=torch.zeros((1,len(x)))\n",
        "net.eval()\n",
        "Ys[0,0]=y0\n",
        "with torch.no_grad():\n",
        "  for i in range(len(x)-1):\n",
        "      m_net_out = net(XY)\n",
        "      Y=(Y+delta*m_net_out[0])\n",
        "      X=(X+delta)\n",
        "      XY = torch.stack([X,Y]).view(bs,2)\n",
        "      Ys[0,i+1]=Y\n",
        "        \n",
        "\n",
        "#real trajectory\n",
        "x_compare = np.arange(-1,4,0.01)\n",
        "y_compare = Func(x_compare) "
      ],
      "execution_count": null,
      "outputs": []
    },
    {
      "cell_type": "code",
      "metadata": {
        "id": "5Q8FBN0O9Nga",
        "colab_type": "code",
        "colab": {
          "base_uri": "https://localhost:8080/",
          "height": 428
        },
        "outputId": "4d934d86-ff9b-432b-e883-ada632281473"
      },
      "source": [
        "plt.figure(figsize=(10,7))\n",
        "plt.plot(x_compare,y_compare,'k',label='Real trajectory')\n",
        "plt.plot(x[0], Ys.numpy().reshape(len(x))[0], 'r*', label='Initial condition', ms=10)\n",
        "plt.plot(x[1:], Ys.numpy().reshape(len(x))[1:], 'bo', label='Predictions')\n",
        "plt.legend()\n",
        "plt.show()"
      ],
      "execution_count": null,
      "outputs": [
        {
          "output_type": "display_data",
          "data": {
            "image/png": "[encoded data removed]",
            "text/plain": [
              "<Figure size 720x504 with 1 Axes>"
            ]
          },
          "metadata": {
            "tags": [],
            "needs_background": "light"
          }
        }
      ]
    },
    {
      "cell_type": "code",
      "metadata": {
        "id": "tNKglgYW-R1T",
        "colab_type": "code",
        "colab": {}
      },
      "source": [
        ""
      ],
      "execution_count": null,
      "outputs": []
    }
  ]
}